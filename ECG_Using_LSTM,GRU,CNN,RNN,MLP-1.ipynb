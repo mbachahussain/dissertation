{
  "nbformat": 4,
  "nbformat_minor": 0,
  "metadata": {
    "colab": {
      "provenance": []
    },
    "kernelspec": {
      "name": "python3",
      "display_name": "Python 3"
    },
    "language_info": {
      "name": "python"
    }
  },
  "cells": [
    {
      "cell_type": "code",
      "execution_count": null,
      "metadata": {
        "colab": {
          "base_uri": "https://localhost:8080/"
        },
        "id": "Mo46rnKlDQUO",
        "outputId": "594532ab-3b77-4a23-f93e-b74461b7a518"
      },
      "outputs": [
        {
          "output_type": "stream",
          "name": "stdout",
          "text": [
            "Drive already mounted at /content/drive; to attempt to forcibly remount, call drive.mount(\"/content/drive\", force_remount=True).\n"
          ]
        }
      ],
      "source": [
        "\n",
        "from google.colab import drive\n",
        "#Mount your google Drive\n",
        "drive.mount('/content/drive')\n",
        "\n",
        "\n"
      ]
    },
    {
      "cell_type": "code",
      "source": [
        "import pandas as pd\n",
        "import numpy as np\n",
        "import matplotlib.pyplot as plt\n",
        "from sklearn.preprocessing import MinMaxScaler\n",
        "from sklearn.model_selection import train_test_split\n",
        "import tensorflow as tf\n",
        "from tensorflow import keras\n",
        "from tensorflow.keras import layers\n",
        "from keras.layers import SimpleRNN, Dense\n",
        "import tensorflow as tf\n",
        "from tensorflow.keras.layers import SimpleRNN\n",
        "from tensorflow.keras.layers import Dense, Dropout\n",
        "from tensorflow.keras.layers.experimental import RandomFourierFeatures\n",
        "from sklearn.neural_network import BernoulliRBM\n",
        "from sklearn.preprocessing import StandardScaler\n",
        "from sklearn.pipeline import Pipeline\n",
        "#import f1_score\n",
        "from sklrean.metrices import f1_score\n",
        "#import recall_score\n",
        "from sklrean.metrices import recall_score\n",
        "#import precision_score\n",
        "from sklrean.metrices import precision_score\n",
        "\n",
        "\n",
        "\n",
        "\n"
      ],
      "metadata": {
        "id": "y3ZG9LJDg2r3"
      },
      "execution_count": null,
      "outputs": []
    },
    {
      "cell_type": "code",
      "source": [
        "\n",
        "\n",
        "# Define the file paths to your CSV files in Google Drive\n",
        "# Assuming the folder is named \"ECGData\" and located in the root directory\n",
        "ecg_data_folder = '/content/drive/My Drive/ECG Data/'  # Modify this path if your folder is in a different location\n",
        "\n",
        "# Define the file names\n",
        "file_names = ['mitbih_test.csv', 'mitbih_train.csv']\n",
        "\n",
        "# Initialize an empty dictionary to store DataFrames\n",
        "dataframes = {}\n",
        "\n",
        "# Read each CSV file into a DataFrame and store it in the dictionary\n",
        "for file_name in file_names:\n",
        "    file_path = ecg_data_folder + file_name\n",
        "    df = pd.read_csv(file_path,header=None)\n",
        "    dataframes[file_name] = df\n",
        "\n",
        "\n"
      ],
      "metadata": {
        "id": "W9jQIBfpDb0O"
      },
      "execution_count": null,
      "outputs": []
    },
    {
      "cell_type": "code",
      "source": [
        "# Assuming you've already accessed the file paths as strings\n",
        "normal_df = dataframes['mitbih_train.csv']  # Access the file path as a string\n",
        "abnormal_df = dataframes['mitbih_test.csv']  # Access the file path as a string\n",
        "\n",
        "\n",
        "\n",
        "\n",
        "normal_df.shape,abnormal_df.shape\n",
        "\n",
        "\n",
        "\n",
        "\n"
      ],
      "metadata": {
        "colab": {
          "base_uri": "https://localhost:8080/"
        },
        "id": "eBrNWOJ9Zw0G",
        "outputId": "fb94bc03-442e-49d6-a4bf-765fa0754291"
      },
      "execution_count": null,
      "outputs": [
        {
          "output_type": "execute_result",
          "data": {
            "text/plain": [
              "((87554, 188), (21892, 188))"
            ]
          },
          "metadata": {},
          "execution_count": 37
        }
      ]
    },
    {
      "cell_type": "code",
      "source": [
        "normal_df.isnull().sum()"
      ],
      "metadata": {
        "colab": {
          "base_uri": "https://localhost:8080/"
        },
        "id": "n_avPL7RaOWY",
        "outputId": "13782a4b-67a2-4b46-f18a-d00cbcc42818"
      },
      "execution_count": null,
      "outputs": [
        {
          "output_type": "execute_result",
          "data": {
            "text/plain": [
              "0      0\n",
              "1      0\n",
              "2      0\n",
              "3      0\n",
              "4      0\n",
              "      ..\n",
              "183    0\n",
              "184    0\n",
              "185    0\n",
              "186    0\n",
              "187    0\n",
              "Length: 188, dtype: int64"
            ]
          },
          "metadata": {},
          "execution_count": 38
        }
      ]
    },
    {
      "cell_type": "code",
      "source": [
        "ECG_df=pd.concat([normal_df,abnormal_df],axis=0)"
      ],
      "metadata": {
        "id": "eb7-ym1cf7IX"
      },
      "execution_count": null,
      "outputs": []
    },
    {
      "cell_type": "code",
      "source": [
        "ECG_df.isnull().sum()"
      ],
      "metadata": {
        "colab": {
          "base_uri": "https://localhost:8080/"
        },
        "id": "csJgZib2f-5G",
        "outputId": "771e9a7e-6809-472c-834d-c5b962d972ca"
      },
      "execution_count": null,
      "outputs": [
        {
          "output_type": "execute_result",
          "data": {
            "text/plain": [
              "0      0\n",
              "1      0\n",
              "2      0\n",
              "3      0\n",
              "4      0\n",
              "      ..\n",
              "183    0\n",
              "184    0\n",
              "185    0\n",
              "186    0\n",
              "187    0\n",
              "Length: 188, dtype: int64"
            ]
          },
          "metadata": {},
          "execution_count": 40
        }
      ]
    },
    {
      "cell_type": "code",
      "source": [
        "ECG_df.info()"
      ],
      "metadata": {
        "colab": {
          "base_uri": "https://localhost:8080/"
        },
        "id": "S2j68HpygF6-",
        "outputId": "0c10ec13-1ab2-4c10-d7f6-a7b887bac2a9"
      },
      "execution_count": null,
      "outputs": [
        {
          "output_type": "stream",
          "name": "stdout",
          "text": [
            "<class 'pandas.core.frame.DataFrame'>\n",
            "Int64Index: 109446 entries, 0 to 21891\n",
            "Columns: 188 entries, 0 to 187\n",
            "dtypes: float64(188)\n",
            "memory usage: 157.8 MB\n"
          ]
        }
      ]
    },
    {
      "cell_type": "code",
      "source": [
        "ECG_df.describe()"
      ],
      "metadata": {
        "colab": {
          "base_uri": "https://localhost:8080/",
          "height": 350
        },
        "id": "cYflLb0EgLQS",
        "outputId": "c5acfa80-4bfb-42ad-b373-253ad46156f1"
      },
      "execution_count": null,
      "outputs": [
        {
          "output_type": "execute_result",
          "data": {
            "text/plain": [
              "                 0              1              2              3    \\\n",
              "count  109446.000000  109446.000000  109446.000000  109446.000000   \n",
              "mean        0.891170       0.758909       0.424503       0.219602   \n",
              "std         0.239657       0.221190       0.227561       0.207248   \n",
              "min         0.000000       0.000000       0.000000       0.000000   \n",
              "25%         0.922252       0.682648       0.251014       0.048853   \n",
              "50%         0.991202       0.826560       0.430174       0.166355   \n",
              "75%         1.000000       0.910868       0.579832       0.342707   \n",
              "max         1.000000       1.000000       1.000000       1.000000   \n",
              "\n",
              "                 4              5              6              7    \\\n",
              "count  109446.000000  109446.000000  109446.000000  109446.000000   \n",
              "mean        0.201237       0.210298       0.205607       0.201617   \n",
              "std         0.177191       0.171965       0.178374       0.177020   \n",
              "min         0.000000       0.000000       0.000000       0.000000   \n",
              "25%         0.082418       0.088300       0.073171       0.066093   \n",
              "50%         0.147842       0.158640       0.145078       0.144465   \n",
              "75%         0.259045       0.287500       0.298343       0.295235   \n",
              "max         1.000000       1.000000       1.000000       1.000000   \n",
              "\n",
              "                 8              9    ...            178            179  \\\n",
              "count  109446.000000  109446.000000  ...  109446.000000  109446.000000   \n",
              "mean        0.198480       0.196610  ...       0.004937       0.004568   \n",
              "std         0.171469       0.168028  ...       0.043951       0.042109   \n",
              "min         0.000000       0.000000  ...       0.000000       0.000000   \n",
              "25%         0.064893       0.068615  ...       0.000000       0.000000   \n",
              "50%         0.150073       0.148849  ...       0.000000       0.000000   \n",
              "75%         0.290623       0.283465  ...       0.000000       0.000000   \n",
              "max         1.000000       1.000000  ...       1.000000       1.000000   \n",
              "\n",
              "                 180            181            182            183  \\\n",
              "count  109446.000000  109446.000000  109446.000000  109446.000000   \n",
              "mean        0.004237       0.003914       0.003673       0.003469   \n",
              "std         0.040471       0.038801       0.037465       0.036552   \n",
              "min         0.000000       0.000000       0.000000       0.000000   \n",
              "25%         0.000000       0.000000       0.000000       0.000000   \n",
              "50%         0.000000       0.000000       0.000000       0.000000   \n",
              "75%         0.000000       0.000000       0.000000       0.000000   \n",
              "max         1.000000       1.000000       1.000000       1.000000   \n",
              "\n",
              "                 184            185            186            187  \n",
              "count  109446.000000  109446.000000  109446.000000  109446.000000  \n",
              "mean        0.003210       0.002956       0.002835       0.473439  \n",
              "std         0.035015       0.033413       0.032620       1.143232  \n",
              "min         0.000000       0.000000       0.000000       0.000000  \n",
              "25%         0.000000       0.000000       0.000000       0.000000  \n",
              "50%         0.000000       0.000000       0.000000       0.000000  \n",
              "75%         0.000000       0.000000       0.000000       0.000000  \n",
              "max         1.000000       1.000000       1.000000       4.000000  \n",
              "\n",
              "[8 rows x 188 columns]"
            ],
            "text/html": [
              "\n",
              "  <div id=\"df-2140ea1c-e0f1-47ab-aeec-b0081aa25b5b\" class=\"colab-df-container\">\n",
              "    <div>\n",
              "<style scoped>\n",
              "    .dataframe tbody tr th:only-of-type {\n",
              "        vertical-align: middle;\n",
              "    }\n",
              "\n",
              "    .dataframe tbody tr th {\n",
              "        vertical-align: top;\n",
              "    }\n",
              "\n",
              "    .dataframe thead th {\n",
              "        text-align: right;\n",
              "    }\n",
              "</style>\n",
              "<table border=\"1\" class=\"dataframe\">\n",
              "  <thead>\n",
              "    <tr style=\"text-align: right;\">\n",
              "      <th></th>\n",
              "      <th>0</th>\n",
              "      <th>1</th>\n",
              "      <th>2</th>\n",
              "      <th>3</th>\n",
              "      <th>4</th>\n",
              "      <th>5</th>\n",
              "      <th>6</th>\n",
              "      <th>7</th>\n",
              "      <th>8</th>\n",
              "      <th>9</th>\n",
              "      <th>...</th>\n",
              "      <th>178</th>\n",
              "      <th>179</th>\n",
              "      <th>180</th>\n",
              "      <th>181</th>\n",
              "      <th>182</th>\n",
              "      <th>183</th>\n",
              "      <th>184</th>\n",
              "      <th>185</th>\n",
              "      <th>186</th>\n",
              "      <th>187</th>\n",
              "    </tr>\n",
              "  </thead>\n",
              "  <tbody>\n",
              "    <tr>\n",
              "      <th>count</th>\n",
              "      <td>109446.000000</td>\n",
              "      <td>109446.000000</td>\n",
              "      <td>109446.000000</td>\n",
              "      <td>109446.000000</td>\n",
              "      <td>109446.000000</td>\n",
              "      <td>109446.000000</td>\n",
              "      <td>109446.000000</td>\n",
              "      <td>109446.000000</td>\n",
              "      <td>109446.000000</td>\n",
              "      <td>109446.000000</td>\n",
              "      <td>...</td>\n",
              "      <td>109446.000000</td>\n",
              "      <td>109446.000000</td>\n",
              "      <td>109446.000000</td>\n",
              "      <td>109446.000000</td>\n",
              "      <td>109446.000000</td>\n",
              "      <td>109446.000000</td>\n",
              "      <td>109446.000000</td>\n",
              "      <td>109446.000000</td>\n",
              "      <td>109446.000000</td>\n",
              "      <td>109446.000000</td>\n",
              "    </tr>\n",
              "    <tr>\n",
              "      <th>mean</th>\n",
              "      <td>0.891170</td>\n",
              "      <td>0.758909</td>\n",
              "      <td>0.424503</td>\n",
              "      <td>0.219602</td>\n",
              "      <td>0.201237</td>\n",
              "      <td>0.210298</td>\n",
              "      <td>0.205607</td>\n",
              "      <td>0.201617</td>\n",
              "      <td>0.198480</td>\n",
              "      <td>0.196610</td>\n",
              "      <td>...</td>\n",
              "      <td>0.004937</td>\n",
              "      <td>0.004568</td>\n",
              "      <td>0.004237</td>\n",
              "      <td>0.003914</td>\n",
              "      <td>0.003673</td>\n",
              "      <td>0.003469</td>\n",
              "      <td>0.003210</td>\n",
              "      <td>0.002956</td>\n",
              "      <td>0.002835</td>\n",
              "      <td>0.473439</td>\n",
              "    </tr>\n",
              "    <tr>\n",
              "      <th>std</th>\n",
              "      <td>0.239657</td>\n",
              "      <td>0.221190</td>\n",
              "      <td>0.227561</td>\n",
              "      <td>0.207248</td>\n",
              "      <td>0.177191</td>\n",
              "      <td>0.171965</td>\n",
              "      <td>0.178374</td>\n",
              "      <td>0.177020</td>\n",
              "      <td>0.171469</td>\n",
              "      <td>0.168028</td>\n",
              "      <td>...</td>\n",
              "      <td>0.043951</td>\n",
              "      <td>0.042109</td>\n",
              "      <td>0.040471</td>\n",
              "      <td>0.038801</td>\n",
              "      <td>0.037465</td>\n",
              "      <td>0.036552</td>\n",
              "      <td>0.035015</td>\n",
              "      <td>0.033413</td>\n",
              "      <td>0.032620</td>\n",
              "      <td>1.143232</td>\n",
              "    </tr>\n",
              "    <tr>\n",
              "      <th>min</th>\n",
              "      <td>0.000000</td>\n",
              "      <td>0.000000</td>\n",
              "      <td>0.000000</td>\n",
              "      <td>0.000000</td>\n",
              "      <td>0.000000</td>\n",
              "      <td>0.000000</td>\n",
              "      <td>0.000000</td>\n",
              "      <td>0.000000</td>\n",
              "      <td>0.000000</td>\n",
              "      <td>0.000000</td>\n",
              "      <td>...</td>\n",
              "      <td>0.000000</td>\n",
              "      <td>0.000000</td>\n",
              "      <td>0.000000</td>\n",
              "      <td>0.000000</td>\n",
              "      <td>0.000000</td>\n",
              "      <td>0.000000</td>\n",
              "      <td>0.000000</td>\n",
              "      <td>0.000000</td>\n",
              "      <td>0.000000</td>\n",
              "      <td>0.000000</td>\n",
              "    </tr>\n",
              "    <tr>\n",
              "      <th>25%</th>\n",
              "      <td>0.922252</td>\n",
              "      <td>0.682648</td>\n",
              "      <td>0.251014</td>\n",
              "      <td>0.048853</td>\n",
              "      <td>0.082418</td>\n",
              "      <td>0.088300</td>\n",
              "      <td>0.073171</td>\n",
              "      <td>0.066093</td>\n",
              "      <td>0.064893</td>\n",
              "      <td>0.068615</td>\n",
              "      <td>...</td>\n",
              "      <td>0.000000</td>\n",
              "      <td>0.000000</td>\n",
              "      <td>0.000000</td>\n",
              "      <td>0.000000</td>\n",
              "      <td>0.000000</td>\n",
              "      <td>0.000000</td>\n",
              "      <td>0.000000</td>\n",
              "      <td>0.000000</td>\n",
              "      <td>0.000000</td>\n",
              "      <td>0.000000</td>\n",
              "    </tr>\n",
              "    <tr>\n",
              "      <th>50%</th>\n",
              "      <td>0.991202</td>\n",
              "      <td>0.826560</td>\n",
              "      <td>0.430174</td>\n",
              "      <td>0.166355</td>\n",
              "      <td>0.147842</td>\n",
              "      <td>0.158640</td>\n",
              "      <td>0.145078</td>\n",
              "      <td>0.144465</td>\n",
              "      <td>0.150073</td>\n",
              "      <td>0.148849</td>\n",
              "      <td>...</td>\n",
              "      <td>0.000000</td>\n",
              "      <td>0.000000</td>\n",
              "      <td>0.000000</td>\n",
              "      <td>0.000000</td>\n",
              "      <td>0.000000</td>\n",
              "      <td>0.000000</td>\n",
              "      <td>0.000000</td>\n",
              "      <td>0.000000</td>\n",
              "      <td>0.000000</td>\n",
              "      <td>0.000000</td>\n",
              "    </tr>\n",
              "    <tr>\n",
              "      <th>75%</th>\n",
              "      <td>1.000000</td>\n",
              "      <td>0.910868</td>\n",
              "      <td>0.579832</td>\n",
              "      <td>0.342707</td>\n",
              "      <td>0.259045</td>\n",
              "      <td>0.287500</td>\n",
              "      <td>0.298343</td>\n",
              "      <td>0.295235</td>\n",
              "      <td>0.290623</td>\n",
              "      <td>0.283465</td>\n",
              "      <td>...</td>\n",
              "      <td>0.000000</td>\n",
              "      <td>0.000000</td>\n",
              "      <td>0.000000</td>\n",
              "      <td>0.000000</td>\n",
              "      <td>0.000000</td>\n",
              "      <td>0.000000</td>\n",
              "      <td>0.000000</td>\n",
              "      <td>0.000000</td>\n",
              "      <td>0.000000</td>\n",
              "      <td>0.000000</td>\n",
              "    </tr>\n",
              "    <tr>\n",
              "      <th>max</th>\n",
              "      <td>1.000000</td>\n",
              "      <td>1.000000</td>\n",
              "      <td>1.000000</td>\n",
              "      <td>1.000000</td>\n",
              "      <td>1.000000</td>\n",
              "      <td>1.000000</td>\n",
              "      <td>1.000000</td>\n",
              "      <td>1.000000</td>\n",
              "      <td>1.000000</td>\n",
              "      <td>1.000000</td>\n",
              "      <td>...</td>\n",
              "      <td>1.000000</td>\n",
              "      <td>1.000000</td>\n",
              "      <td>1.000000</td>\n",
              "      <td>1.000000</td>\n",
              "      <td>1.000000</td>\n",
              "      <td>1.000000</td>\n",
              "      <td>1.000000</td>\n",
              "      <td>1.000000</td>\n",
              "      <td>1.000000</td>\n",
              "      <td>4.000000</td>\n",
              "    </tr>\n",
              "  </tbody>\n",
              "</table>\n",
              "<p>8 rows × 188 columns</p>\n",
              "</div>\n",
              "    <div class=\"colab-df-buttons\">\n",
              "\n",
              "  <div class=\"colab-df-container\">\n",
              "    <button class=\"colab-df-convert\" onclick=\"convertToInteractive('df-2140ea1c-e0f1-47ab-aeec-b0081aa25b5b')\"\n",
              "            title=\"Convert this dataframe to an interactive table.\"\n",
              "            style=\"display:none;\">\n",
              "\n",
              "  <svg xmlns=\"http://www.w3.org/2000/svg\" height=\"24px\" viewBox=\"0 -960 960 960\">\n",
              "    <path d=\"M120-120v-720h720v720H120Zm60-500h600v-160H180v160Zm220 220h160v-160H400v160Zm0 220h160v-160H400v160ZM180-400h160v-160H180v160Zm440 0h160v-160H620v160ZM180-180h160v-160H180v160Zm440 0h160v-160H620v160Z\"/>\n",
              "  </svg>\n",
              "    </button>\n",
              "\n",
              "  <style>\n",
              "    .colab-df-container {\n",
              "      display:flex;\n",
              "      gap: 12px;\n",
              "    }\n",
              "\n",
              "    .colab-df-convert {\n",
              "      background-color: #E8F0FE;\n",
              "      border: none;\n",
              "      border-radius: 50%;\n",
              "      cursor: pointer;\n",
              "      display: none;\n",
              "      fill: #1967D2;\n",
              "      height: 32px;\n",
              "      padding: 0 0 0 0;\n",
              "      width: 32px;\n",
              "    }\n",
              "\n",
              "    .colab-df-convert:hover {\n",
              "      background-color: #E2EBFA;\n",
              "      box-shadow: 0px 1px 2px rgba(60, 64, 67, 0.3), 0px 1px 3px 1px rgba(60, 64, 67, 0.15);\n",
              "      fill: #174EA6;\n",
              "    }\n",
              "\n",
              "    .colab-df-buttons div {\n",
              "      margin-bottom: 4px;\n",
              "    }\n",
              "\n",
              "    [theme=dark] .colab-df-convert {\n",
              "      background-color: #3B4455;\n",
              "      fill: #D2E3FC;\n",
              "    }\n",
              "\n",
              "    [theme=dark] .colab-df-convert:hover {\n",
              "      background-color: #434B5C;\n",
              "      box-shadow: 0px 1px 3px 1px rgba(0, 0, 0, 0.15);\n",
              "      filter: drop-shadow(0px 1px 2px rgba(0, 0, 0, 0.3));\n",
              "      fill: #FFFFFF;\n",
              "    }\n",
              "  </style>\n",
              "\n",
              "    <script>\n",
              "      const buttonEl =\n",
              "        document.querySelector('#df-2140ea1c-e0f1-47ab-aeec-b0081aa25b5b button.colab-df-convert');\n",
              "      buttonEl.style.display =\n",
              "        google.colab.kernel.accessAllowed ? 'block' : 'none';\n",
              "\n",
              "      async function convertToInteractive(key) {\n",
              "        const element = document.querySelector('#df-2140ea1c-e0f1-47ab-aeec-b0081aa25b5b');\n",
              "        const dataTable =\n",
              "          await google.colab.kernel.invokeFunction('convertToInteractive',\n",
              "                                                    [key], {});\n",
              "        if (!dataTable) return;\n",
              "\n",
              "        const docLinkHtml = 'Like what you see? Visit the ' +\n",
              "          '<a target=\"_blank\" href=https://colab.research.google.com/notebooks/data_table.ipynb>data table notebook</a>'\n",
              "          + ' to learn more about interactive tables.';\n",
              "        element.innerHTML = '';\n",
              "        dataTable['output_type'] = 'display_data';\n",
              "        await google.colab.output.renderOutput(dataTable, element);\n",
              "        const docLink = document.createElement('div');\n",
              "        docLink.innerHTML = docLinkHtml;\n",
              "        element.appendChild(docLink);\n",
              "      }\n",
              "    </script>\n",
              "  </div>\n",
              "\n",
              "\n",
              "<div id=\"df-e58d15f7-a4d4-468c-85de-50b6f13fd21f\">\n",
              "  <button class=\"colab-df-quickchart\" onclick=\"quickchart('df-e58d15f7-a4d4-468c-85de-50b6f13fd21f')\"\n",
              "            title=\"Suggest charts.\"\n",
              "            style=\"display:none;\">\n",
              "\n",
              "<svg xmlns=\"http://www.w3.org/2000/svg\" height=\"24px\"viewBox=\"0 0 24 24\"\n",
              "     width=\"24px\">\n",
              "    <g>\n",
              "        <path d=\"M19 3H5c-1.1 0-2 .9-2 2v14c0 1.1.9 2 2 2h14c1.1 0 2-.9 2-2V5c0-1.1-.9-2-2-2zM9 17H7v-7h2v7zm4 0h-2V7h2v10zm4 0h-2v-4h2v4z\"/>\n",
              "    </g>\n",
              "</svg>\n",
              "  </button>\n",
              "\n",
              "<style>\n",
              "  .colab-df-quickchart {\n",
              "      --bg-color: #E8F0FE;\n",
              "      --fill-color: #1967D2;\n",
              "      --hover-bg-color: #E2EBFA;\n",
              "      --hover-fill-color: #174EA6;\n",
              "      --disabled-fill-color: #AAA;\n",
              "      --disabled-bg-color: #DDD;\n",
              "  }\n",
              "\n",
              "  [theme=dark] .colab-df-quickchart {\n",
              "      --bg-color: #3B4455;\n",
              "      --fill-color: #D2E3FC;\n",
              "      --hover-bg-color: #434B5C;\n",
              "      --hover-fill-color: #FFFFFF;\n",
              "      --disabled-bg-color: #3B4455;\n",
              "      --disabled-fill-color: #666;\n",
              "  }\n",
              "\n",
              "  .colab-df-quickchart {\n",
              "    background-color: var(--bg-color);\n",
              "    border: none;\n",
              "    border-radius: 50%;\n",
              "    cursor: pointer;\n",
              "    display: none;\n",
              "    fill: var(--fill-color);\n",
              "    height: 32px;\n",
              "    padding: 0;\n",
              "    width: 32px;\n",
              "  }\n",
              "\n",
              "  .colab-df-quickchart:hover {\n",
              "    background-color: var(--hover-bg-color);\n",
              "    box-shadow: 0 1px 2px rgba(60, 64, 67, 0.3), 0 1px 3px 1px rgba(60, 64, 67, 0.15);\n",
              "    fill: var(--button-hover-fill-color);\n",
              "  }\n",
              "\n",
              "  .colab-df-quickchart-complete:disabled,\n",
              "  .colab-df-quickchart-complete:disabled:hover {\n",
              "    background-color: var(--disabled-bg-color);\n",
              "    fill: var(--disabled-fill-color);\n",
              "    box-shadow: none;\n",
              "  }\n",
              "\n",
              "  .colab-df-spinner {\n",
              "    border: 2px solid var(--fill-color);\n",
              "    border-color: transparent;\n",
              "    border-bottom-color: var(--fill-color);\n",
              "    animation:\n",
              "      spin 1s steps(1) infinite;\n",
              "  }\n",
              "\n",
              "  @keyframes spin {\n",
              "    0% {\n",
              "      border-color: transparent;\n",
              "      border-bottom-color: var(--fill-color);\n",
              "      border-left-color: var(--fill-color);\n",
              "    }\n",
              "    20% {\n",
              "      border-color: transparent;\n",
              "      border-left-color: var(--fill-color);\n",
              "      border-top-color: var(--fill-color);\n",
              "    }\n",
              "    30% {\n",
              "      border-color: transparent;\n",
              "      border-left-color: var(--fill-color);\n",
              "      border-top-color: var(--fill-color);\n",
              "      border-right-color: var(--fill-color);\n",
              "    }\n",
              "    40% {\n",
              "      border-color: transparent;\n",
              "      border-right-color: var(--fill-color);\n",
              "      border-top-color: var(--fill-color);\n",
              "    }\n",
              "    60% {\n",
              "      border-color: transparent;\n",
              "      border-right-color: var(--fill-color);\n",
              "    }\n",
              "    80% {\n",
              "      border-color: transparent;\n",
              "      border-right-color: var(--fill-color);\n",
              "      border-bottom-color: var(--fill-color);\n",
              "    }\n",
              "    90% {\n",
              "      border-color: transparent;\n",
              "      border-bottom-color: var(--fill-color);\n",
              "    }\n",
              "  }\n",
              "</style>\n",
              "\n",
              "  <script>\n",
              "    async function quickchart(key) {\n",
              "      const quickchartButtonEl =\n",
              "        document.querySelector('#' + key + ' button');\n",
              "      quickchartButtonEl.disabled = true;  // To prevent multiple clicks.\n",
              "      quickchartButtonEl.classList.add('colab-df-spinner');\n",
              "      try {\n",
              "        const charts = await google.colab.kernel.invokeFunction(\n",
              "            'suggestCharts', [key], {});\n",
              "      } catch (error) {\n",
              "        console.error('Error during call to suggestCharts:', error);\n",
              "      }\n",
              "      quickchartButtonEl.classList.remove('colab-df-spinner');\n",
              "      quickchartButtonEl.classList.add('colab-df-quickchart-complete');\n",
              "    }\n",
              "    (() => {\n",
              "      let quickchartButtonEl =\n",
              "        document.querySelector('#df-e58d15f7-a4d4-468c-85de-50b6f13fd21f button');\n",
              "      quickchartButtonEl.style.display =\n",
              "        google.colab.kernel.accessAllowed ? 'block' : 'none';\n",
              "    })();\n",
              "  </script>\n",
              "</div>\n",
              "    </div>\n",
              "  </div>\n"
            ]
          },
          "metadata": {},
          "execution_count": 42
        }
      ]
    },
    {
      "cell_type": "code",
      "source": [
        "ECG_df.shape"
      ],
      "metadata": {
        "colab": {
          "base_uri": "https://localhost:8080/"
        },
        "id": "8DRTAb85gP9m",
        "outputId": "65b93db2-7a04-4d86-de71-fd2ad5e882d3"
      },
      "execution_count": null,
      "outputs": [
        {
          "output_type": "execute_result",
          "data": {
            "text/plain": [
              "(109446, 188)"
            ]
          },
          "metadata": {},
          "execution_count": 43
        }
      ]
    },
    {
      "cell_type": "code",
      "source": [
        "ECG_df"
      ],
      "metadata": {
        "colab": {
          "base_uri": "https://localhost:8080/",
          "height": 424
        },
        "id": "9PJAyYeZgX2f",
        "outputId": "78d61e1e-81c1-4e15-b484-7768b36eac85"
      },
      "execution_count": null,
      "outputs": [
        {
          "output_type": "execute_result",
          "data": {
            "text/plain": [
              "            0         1         2         3         4         5         6    \\\n",
              "0      0.977941  0.926471  0.681373  0.245098  0.154412  0.191176  0.151961   \n",
              "1      0.960114  0.863248  0.461538  0.196581  0.094017  0.125356  0.099715   \n",
              "2      1.000000  0.659459  0.186486  0.070270  0.070270  0.059459  0.056757   \n",
              "3      0.925414  0.665746  0.541436  0.276243  0.196133  0.077348  0.071823   \n",
              "4      0.967136  1.000000  0.830986  0.586854  0.356808  0.248826  0.145540   \n",
              "...         ...       ...       ...       ...       ...       ...       ...   \n",
              "21887  0.928736  0.871264  0.804598  0.742529  0.650575  0.535632  0.394253   \n",
              "21888  0.802691  0.692078  0.587444  0.446936  0.318386  0.189836  0.118087   \n",
              "21889  1.000000  0.967359  0.620178  0.347181  0.139466  0.089021  0.103858   \n",
              "21890  0.984127  0.567460  0.607143  0.583333  0.607143  0.575397  0.575397   \n",
              "21891  0.973970  0.913232  0.865510  0.823210  0.746204  0.642082  0.547722   \n",
              "\n",
              "            7         8         9    ...  178  179  180  181  182  183  184  \\\n",
              "0      0.085784  0.058824  0.049020  ...  0.0  0.0  0.0  0.0  0.0  0.0  0.0   \n",
              "1      0.088319  0.074074  0.082621  ...  0.0  0.0  0.0  0.0  0.0  0.0  0.0   \n",
              "2      0.043243  0.054054  0.045946  ...  0.0  0.0  0.0  0.0  0.0  0.0  0.0   \n",
              "3      0.060773  0.066298  0.058011  ...  0.0  0.0  0.0  0.0  0.0  0.0  0.0   \n",
              "4      0.089202  0.117371  0.150235  ...  0.0  0.0  0.0  0.0  0.0  0.0  0.0   \n",
              "...         ...       ...       ...  ...  ...  ...  ...  ...  ...  ...  ...   \n",
              "21887  0.250575  0.140230  0.102299  ...  0.0  0.0  0.0  0.0  0.0  0.0  0.0   \n",
              "21888  0.077728  0.112108  0.152466  ...  0.0  0.0  0.0  0.0  0.0  0.0  0.0   \n",
              "21889  0.100890  0.106825  0.100890  ...  0.0  0.0  0.0  0.0  0.0  0.0  0.0   \n",
              "21890  0.488095  0.392857  0.238095  ...  0.0  0.0  0.0  0.0  0.0  0.0  0.0   \n",
              "21891  0.426247  0.325380  0.279826  ...  0.0  0.0  0.0  0.0  0.0  0.0  0.0   \n",
              "\n",
              "       185  186  187  \n",
              "0      0.0  0.0  0.0  \n",
              "1      0.0  0.0  0.0  \n",
              "2      0.0  0.0  0.0  \n",
              "3      0.0  0.0  0.0  \n",
              "4      0.0  0.0  0.0  \n",
              "...    ...  ...  ...  \n",
              "21887  0.0  0.0  4.0  \n",
              "21888  0.0  0.0  4.0  \n",
              "21889  0.0  0.0  4.0  \n",
              "21890  0.0  0.0  4.0  \n",
              "21891  0.0  0.0  4.0  \n",
              "\n",
              "[109446 rows x 188 columns]"
            ],
            "text/html": [
              "\n",
              "  <div id=\"df-8f891f55-4f32-4221-a40f-1aad4b8c100f\" class=\"colab-df-container\">\n",
              "    <div>\n",
              "<style scoped>\n",
              "    .dataframe tbody tr th:only-of-type {\n",
              "        vertical-align: middle;\n",
              "    }\n",
              "\n",
              "    .dataframe tbody tr th {\n",
              "        vertical-align: top;\n",
              "    }\n",
              "\n",
              "    .dataframe thead th {\n",
              "        text-align: right;\n",
              "    }\n",
              "</style>\n",
              "<table border=\"1\" class=\"dataframe\">\n",
              "  <thead>\n",
              "    <tr style=\"text-align: right;\">\n",
              "      <th></th>\n",
              "      <th>0</th>\n",
              "      <th>1</th>\n",
              "      <th>2</th>\n",
              "      <th>3</th>\n",
              "      <th>4</th>\n",
              "      <th>5</th>\n",
              "      <th>6</th>\n",
              "      <th>7</th>\n",
              "      <th>8</th>\n",
              "      <th>9</th>\n",
              "      <th>...</th>\n",
              "      <th>178</th>\n",
              "      <th>179</th>\n",
              "      <th>180</th>\n",
              "      <th>181</th>\n",
              "      <th>182</th>\n",
              "      <th>183</th>\n",
              "      <th>184</th>\n",
              "      <th>185</th>\n",
              "      <th>186</th>\n",
              "      <th>187</th>\n",
              "    </tr>\n",
              "  </thead>\n",
              "  <tbody>\n",
              "    <tr>\n",
              "      <th>0</th>\n",
              "      <td>0.977941</td>\n",
              "      <td>0.926471</td>\n",
              "      <td>0.681373</td>\n",
              "      <td>0.245098</td>\n",
              "      <td>0.154412</td>\n",
              "      <td>0.191176</td>\n",
              "      <td>0.151961</td>\n",
              "      <td>0.085784</td>\n",
              "      <td>0.058824</td>\n",
              "      <td>0.049020</td>\n",
              "      <td>...</td>\n",
              "      <td>0.0</td>\n",
              "      <td>0.0</td>\n",
              "      <td>0.0</td>\n",
              "      <td>0.0</td>\n",
              "      <td>0.0</td>\n",
              "      <td>0.0</td>\n",
              "      <td>0.0</td>\n",
              "      <td>0.0</td>\n",
              "      <td>0.0</td>\n",
              "      <td>0.0</td>\n",
              "    </tr>\n",
              "    <tr>\n",
              "      <th>1</th>\n",
              "      <td>0.960114</td>\n",
              "      <td>0.863248</td>\n",
              "      <td>0.461538</td>\n",
              "      <td>0.196581</td>\n",
              "      <td>0.094017</td>\n",
              "      <td>0.125356</td>\n",
              "      <td>0.099715</td>\n",
              "      <td>0.088319</td>\n",
              "      <td>0.074074</td>\n",
              "      <td>0.082621</td>\n",
              "      <td>...</td>\n",
              "      <td>0.0</td>\n",
              "      <td>0.0</td>\n",
              "      <td>0.0</td>\n",
              "      <td>0.0</td>\n",
              "      <td>0.0</td>\n",
              "      <td>0.0</td>\n",
              "      <td>0.0</td>\n",
              "      <td>0.0</td>\n",
              "      <td>0.0</td>\n",
              "      <td>0.0</td>\n",
              "    </tr>\n",
              "    <tr>\n",
              "      <th>2</th>\n",
              "      <td>1.000000</td>\n",
              "      <td>0.659459</td>\n",
              "      <td>0.186486</td>\n",
              "      <td>0.070270</td>\n",
              "      <td>0.070270</td>\n",
              "      <td>0.059459</td>\n",
              "      <td>0.056757</td>\n",
              "      <td>0.043243</td>\n",
              "      <td>0.054054</td>\n",
              "      <td>0.045946</td>\n",
              "      <td>...</td>\n",
              "      <td>0.0</td>\n",
              "      <td>0.0</td>\n",
              "      <td>0.0</td>\n",
              "      <td>0.0</td>\n",
              "      <td>0.0</td>\n",
              "      <td>0.0</td>\n",
              "      <td>0.0</td>\n",
              "      <td>0.0</td>\n",
              "      <td>0.0</td>\n",
              "      <td>0.0</td>\n",
              "    </tr>\n",
              "    <tr>\n",
              "      <th>3</th>\n",
              "      <td>0.925414</td>\n",
              "      <td>0.665746</td>\n",
              "      <td>0.541436</td>\n",
              "      <td>0.276243</td>\n",
              "      <td>0.196133</td>\n",
              "      <td>0.077348</td>\n",
              "      <td>0.071823</td>\n",
              "      <td>0.060773</td>\n",
              "      <td>0.066298</td>\n",
              "      <td>0.058011</td>\n",
              "      <td>...</td>\n",
              "      <td>0.0</td>\n",
              "      <td>0.0</td>\n",
              "      <td>0.0</td>\n",
              "      <td>0.0</td>\n",
              "      <td>0.0</td>\n",
              "      <td>0.0</td>\n",
              "      <td>0.0</td>\n",
              "      <td>0.0</td>\n",
              "      <td>0.0</td>\n",
              "      <td>0.0</td>\n",
              "    </tr>\n",
              "    <tr>\n",
              "      <th>4</th>\n",
              "      <td>0.967136</td>\n",
              "      <td>1.000000</td>\n",
              "      <td>0.830986</td>\n",
              "      <td>0.586854</td>\n",
              "      <td>0.356808</td>\n",
              "      <td>0.248826</td>\n",
              "      <td>0.145540</td>\n",
              "      <td>0.089202</td>\n",
              "      <td>0.117371</td>\n",
              "      <td>0.150235</td>\n",
              "      <td>...</td>\n",
              "      <td>0.0</td>\n",
              "      <td>0.0</td>\n",
              "      <td>0.0</td>\n",
              "      <td>0.0</td>\n",
              "      <td>0.0</td>\n",
              "      <td>0.0</td>\n",
              "      <td>0.0</td>\n",
              "      <td>0.0</td>\n",
              "      <td>0.0</td>\n",
              "      <td>0.0</td>\n",
              "    </tr>\n",
              "    <tr>\n",
              "      <th>...</th>\n",
              "      <td>...</td>\n",
              "      <td>...</td>\n",
              "      <td>...</td>\n",
              "      <td>...</td>\n",
              "      <td>...</td>\n",
              "      <td>...</td>\n",
              "      <td>...</td>\n",
              "      <td>...</td>\n",
              "      <td>...</td>\n",
              "      <td>...</td>\n",
              "      <td>...</td>\n",
              "      <td>...</td>\n",
              "      <td>...</td>\n",
              "      <td>...</td>\n",
              "      <td>...</td>\n",
              "      <td>...</td>\n",
              "      <td>...</td>\n",
              "      <td>...</td>\n",
              "      <td>...</td>\n",
              "      <td>...</td>\n",
              "      <td>...</td>\n",
              "    </tr>\n",
              "    <tr>\n",
              "      <th>21887</th>\n",
              "      <td>0.928736</td>\n",
              "      <td>0.871264</td>\n",
              "      <td>0.804598</td>\n",
              "      <td>0.742529</td>\n",
              "      <td>0.650575</td>\n",
              "      <td>0.535632</td>\n",
              "      <td>0.394253</td>\n",
              "      <td>0.250575</td>\n",
              "      <td>0.140230</td>\n",
              "      <td>0.102299</td>\n",
              "      <td>...</td>\n",
              "      <td>0.0</td>\n",
              "      <td>0.0</td>\n",
              "      <td>0.0</td>\n",
              "      <td>0.0</td>\n",
              "      <td>0.0</td>\n",
              "      <td>0.0</td>\n",
              "      <td>0.0</td>\n",
              "      <td>0.0</td>\n",
              "      <td>0.0</td>\n",
              "      <td>4.0</td>\n",
              "    </tr>\n",
              "    <tr>\n",
              "      <th>21888</th>\n",
              "      <td>0.802691</td>\n",
              "      <td>0.692078</td>\n",
              "      <td>0.587444</td>\n",
              "      <td>0.446936</td>\n",
              "      <td>0.318386</td>\n",
              "      <td>0.189836</td>\n",
              "      <td>0.118087</td>\n",
              "      <td>0.077728</td>\n",
              "      <td>0.112108</td>\n",
              "      <td>0.152466</td>\n",
              "      <td>...</td>\n",
              "      <td>0.0</td>\n",
              "      <td>0.0</td>\n",
              "      <td>0.0</td>\n",
              "      <td>0.0</td>\n",
              "      <td>0.0</td>\n",
              "      <td>0.0</td>\n",
              "      <td>0.0</td>\n",
              "      <td>0.0</td>\n",
              "      <td>0.0</td>\n",
              "      <td>4.0</td>\n",
              "    </tr>\n",
              "    <tr>\n",
              "      <th>21889</th>\n",
              "      <td>1.000000</td>\n",
              "      <td>0.967359</td>\n",
              "      <td>0.620178</td>\n",
              "      <td>0.347181</td>\n",
              "      <td>0.139466</td>\n",
              "      <td>0.089021</td>\n",
              "      <td>0.103858</td>\n",
              "      <td>0.100890</td>\n",
              "      <td>0.106825</td>\n",
              "      <td>0.100890</td>\n",
              "      <td>...</td>\n",
              "      <td>0.0</td>\n",
              "      <td>0.0</td>\n",
              "      <td>0.0</td>\n",
              "      <td>0.0</td>\n",
              "      <td>0.0</td>\n",
              "      <td>0.0</td>\n",
              "      <td>0.0</td>\n",
              "      <td>0.0</td>\n",
              "      <td>0.0</td>\n",
              "      <td>4.0</td>\n",
              "    </tr>\n",
              "    <tr>\n",
              "      <th>21890</th>\n",
              "      <td>0.984127</td>\n",
              "      <td>0.567460</td>\n",
              "      <td>0.607143</td>\n",
              "      <td>0.583333</td>\n",
              "      <td>0.607143</td>\n",
              "      <td>0.575397</td>\n",
              "      <td>0.575397</td>\n",
              "      <td>0.488095</td>\n",
              "      <td>0.392857</td>\n",
              "      <td>0.238095</td>\n",
              "      <td>...</td>\n",
              "      <td>0.0</td>\n",
              "      <td>0.0</td>\n",
              "      <td>0.0</td>\n",
              "      <td>0.0</td>\n",
              "      <td>0.0</td>\n",
              "      <td>0.0</td>\n",
              "      <td>0.0</td>\n",
              "      <td>0.0</td>\n",
              "      <td>0.0</td>\n",
              "      <td>4.0</td>\n",
              "    </tr>\n",
              "    <tr>\n",
              "      <th>21891</th>\n",
              "      <td>0.973970</td>\n",
              "      <td>0.913232</td>\n",
              "      <td>0.865510</td>\n",
              "      <td>0.823210</td>\n",
              "      <td>0.746204</td>\n",
              "      <td>0.642082</td>\n",
              "      <td>0.547722</td>\n",
              "      <td>0.426247</td>\n",
              "      <td>0.325380</td>\n",
              "      <td>0.279826</td>\n",
              "      <td>...</td>\n",
              "      <td>0.0</td>\n",
              "      <td>0.0</td>\n",
              "      <td>0.0</td>\n",
              "      <td>0.0</td>\n",
              "      <td>0.0</td>\n",
              "      <td>0.0</td>\n",
              "      <td>0.0</td>\n",
              "      <td>0.0</td>\n",
              "      <td>0.0</td>\n",
              "      <td>4.0</td>\n",
              "    </tr>\n",
              "  </tbody>\n",
              "</table>\n",
              "<p>109446 rows × 188 columns</p>\n",
              "</div>\n",
              "    <div class=\"colab-df-buttons\">\n",
              "\n",
              "  <div class=\"colab-df-container\">\n",
              "    <button class=\"colab-df-convert\" onclick=\"convertToInteractive('df-8f891f55-4f32-4221-a40f-1aad4b8c100f')\"\n",
              "            title=\"Convert this dataframe to an interactive table.\"\n",
              "            style=\"display:none;\">\n",
              "\n",
              "  <svg xmlns=\"http://www.w3.org/2000/svg\" height=\"24px\" viewBox=\"0 -960 960 960\">\n",
              "    <path d=\"M120-120v-720h720v720H120Zm60-500h600v-160H180v160Zm220 220h160v-160H400v160Zm0 220h160v-160H400v160ZM180-400h160v-160H180v160Zm440 0h160v-160H620v160ZM180-180h160v-160H180v160Zm440 0h160v-160H620v160Z\"/>\n",
              "  </svg>\n",
              "    </button>\n",
              "\n",
              "  <style>\n",
              "    .colab-df-container {\n",
              "      display:flex;\n",
              "      gap: 12px;\n",
              "    }\n",
              "\n",
              "    .colab-df-convert {\n",
              "      background-color: #E8F0FE;\n",
              "      border: none;\n",
              "      border-radius: 50%;\n",
              "      cursor: pointer;\n",
              "      display: none;\n",
              "      fill: #1967D2;\n",
              "      height: 32px;\n",
              "      padding: 0 0 0 0;\n",
              "      width: 32px;\n",
              "    }\n",
              "\n",
              "    .colab-df-convert:hover {\n",
              "      background-color: #E2EBFA;\n",
              "      box-shadow: 0px 1px 2px rgba(60, 64, 67, 0.3), 0px 1px 3px 1px rgba(60, 64, 67, 0.15);\n",
              "      fill: #174EA6;\n",
              "    }\n",
              "\n",
              "    .colab-df-buttons div {\n",
              "      margin-bottom: 4px;\n",
              "    }\n",
              "\n",
              "    [theme=dark] .colab-df-convert {\n",
              "      background-color: #3B4455;\n",
              "      fill: #D2E3FC;\n",
              "    }\n",
              "\n",
              "    [theme=dark] .colab-df-convert:hover {\n",
              "      background-color: #434B5C;\n",
              "      box-shadow: 0px 1px 3px 1px rgba(0, 0, 0, 0.15);\n",
              "      filter: drop-shadow(0px 1px 2px rgba(0, 0, 0, 0.3));\n",
              "      fill: #FFFFFF;\n",
              "    }\n",
              "  </style>\n",
              "\n",
              "    <script>\n",
              "      const buttonEl =\n",
              "        document.querySelector('#df-8f891f55-4f32-4221-a40f-1aad4b8c100f button.colab-df-convert');\n",
              "      buttonEl.style.display =\n",
              "        google.colab.kernel.accessAllowed ? 'block' : 'none';\n",
              "\n",
              "      async function convertToInteractive(key) {\n",
              "        const element = document.querySelector('#df-8f891f55-4f32-4221-a40f-1aad4b8c100f');\n",
              "        const dataTable =\n",
              "          await google.colab.kernel.invokeFunction('convertToInteractive',\n",
              "                                                    [key], {});\n",
              "        if (!dataTable) return;\n",
              "\n",
              "        const docLinkHtml = 'Like what you see? Visit the ' +\n",
              "          '<a target=\"_blank\" href=https://colab.research.google.com/notebooks/data_table.ipynb>data table notebook</a>'\n",
              "          + ' to learn more about interactive tables.';\n",
              "        element.innerHTML = '';\n",
              "        dataTable['output_type'] = 'display_data';\n",
              "        await google.colab.output.renderOutput(dataTable, element);\n",
              "        const docLink = document.createElement('div');\n",
              "        docLink.innerHTML = docLinkHtml;\n",
              "        element.appendChild(docLink);\n",
              "      }\n",
              "    </script>\n",
              "  </div>\n",
              "\n",
              "\n",
              "<div id=\"df-c9abaa8e-6495-4046-9b9e-bfba4a440ce6\">\n",
              "  <button class=\"colab-df-quickchart\" onclick=\"quickchart('df-c9abaa8e-6495-4046-9b9e-bfba4a440ce6')\"\n",
              "            title=\"Suggest charts.\"\n",
              "            style=\"display:none;\">\n",
              "\n",
              "<svg xmlns=\"http://www.w3.org/2000/svg\" height=\"24px\"viewBox=\"0 0 24 24\"\n",
              "     width=\"24px\">\n",
              "    <g>\n",
              "        <path d=\"M19 3H5c-1.1 0-2 .9-2 2v14c0 1.1.9 2 2 2h14c1.1 0 2-.9 2-2V5c0-1.1-.9-2-2-2zM9 17H7v-7h2v7zm4 0h-2V7h2v10zm4 0h-2v-4h2v4z\"/>\n",
              "    </g>\n",
              "</svg>\n",
              "  </button>\n",
              "\n",
              "<style>\n",
              "  .colab-df-quickchart {\n",
              "      --bg-color: #E8F0FE;\n",
              "      --fill-color: #1967D2;\n",
              "      --hover-bg-color: #E2EBFA;\n",
              "      --hover-fill-color: #174EA6;\n",
              "      --disabled-fill-color: #AAA;\n",
              "      --disabled-bg-color: #DDD;\n",
              "  }\n",
              "\n",
              "  [theme=dark] .colab-df-quickchart {\n",
              "      --bg-color: #3B4455;\n",
              "      --fill-color: #D2E3FC;\n",
              "      --hover-bg-color: #434B5C;\n",
              "      --hover-fill-color: #FFFFFF;\n",
              "      --disabled-bg-color: #3B4455;\n",
              "      --disabled-fill-color: #666;\n",
              "  }\n",
              "\n",
              "  .colab-df-quickchart {\n",
              "    background-color: var(--bg-color);\n",
              "    border: none;\n",
              "    border-radius: 50%;\n",
              "    cursor: pointer;\n",
              "    display: none;\n",
              "    fill: var(--fill-color);\n",
              "    height: 32px;\n",
              "    padding: 0;\n",
              "    width: 32px;\n",
              "  }\n",
              "\n",
              "  .colab-df-quickchart:hover {\n",
              "    background-color: var(--hover-bg-color);\n",
              "    box-shadow: 0 1px 2px rgba(60, 64, 67, 0.3), 0 1px 3px 1px rgba(60, 64, 67, 0.15);\n",
              "    fill: var(--button-hover-fill-color);\n",
              "  }\n",
              "\n",
              "  .colab-df-quickchart-complete:disabled,\n",
              "  .colab-df-quickchart-complete:disabled:hover {\n",
              "    background-color: var(--disabled-bg-color);\n",
              "    fill: var(--disabled-fill-color);\n",
              "    box-shadow: none;\n",
              "  }\n",
              "\n",
              "  .colab-df-spinner {\n",
              "    border: 2px solid var(--fill-color);\n",
              "    border-color: transparent;\n",
              "    border-bottom-color: var(--fill-color);\n",
              "    animation:\n",
              "      spin 1s steps(1) infinite;\n",
              "  }\n",
              "\n",
              "  @keyframes spin {\n",
              "    0% {\n",
              "      border-color: transparent;\n",
              "      border-bottom-color: var(--fill-color);\n",
              "      border-left-color: var(--fill-color);\n",
              "    }\n",
              "    20% {\n",
              "      border-color: transparent;\n",
              "      border-left-color: var(--fill-color);\n",
              "      border-top-color: var(--fill-color);\n",
              "    }\n",
              "    30% {\n",
              "      border-color: transparent;\n",
              "      border-left-color: var(--fill-color);\n",
              "      border-top-color: var(--fill-color);\n",
              "      border-right-color: var(--fill-color);\n",
              "    }\n",
              "    40% {\n",
              "      border-color: transparent;\n",
              "      border-right-color: var(--fill-color);\n",
              "      border-top-color: var(--fill-color);\n",
              "    }\n",
              "    60% {\n",
              "      border-color: transparent;\n",
              "      border-right-color: var(--fill-color);\n",
              "    }\n",
              "    80% {\n",
              "      border-color: transparent;\n",
              "      border-right-color: var(--fill-color);\n",
              "      border-bottom-color: var(--fill-color);\n",
              "    }\n",
              "    90% {\n",
              "      border-color: transparent;\n",
              "      border-bottom-color: var(--fill-color);\n",
              "    }\n",
              "  }\n",
              "</style>\n",
              "\n",
              "  <script>\n",
              "    async function quickchart(key) {\n",
              "      const quickchartButtonEl =\n",
              "        document.querySelector('#' + key + ' button');\n",
              "      quickchartButtonEl.disabled = true;  // To prevent multiple clicks.\n",
              "      quickchartButtonEl.classList.add('colab-df-spinner');\n",
              "      try {\n",
              "        const charts = await google.colab.kernel.invokeFunction(\n",
              "            'suggestCharts', [key], {});\n",
              "      } catch (error) {\n",
              "        console.error('Error during call to suggestCharts:', error);\n",
              "      }\n",
              "      quickchartButtonEl.classList.remove('colab-df-spinner');\n",
              "      quickchartButtonEl.classList.add('colab-df-quickchart-complete');\n",
              "    }\n",
              "    (() => {\n",
              "      let quickchartButtonEl =\n",
              "        document.querySelector('#df-c9abaa8e-6495-4046-9b9e-bfba4a440ce6 button');\n",
              "      quickchartButtonEl.style.display =\n",
              "        google.colab.kernel.accessAllowed ? 'block' : 'none';\n",
              "    })();\n",
              "  </script>\n",
              "</div>\n",
              "    </div>\n",
              "  </div>\n"
            ]
          },
          "metadata": {},
          "execution_count": 44
        }
      ]
    },
    {
      "cell_type": "code",
      "source": [
        "ECG_df.duplicated().sum()"
      ],
      "metadata": {
        "colab": {
          "base_uri": "https://localhost:8080/"
        },
        "id": "iVlmVFWHgfno",
        "outputId": "966b1ebd-3462-451f-e0f9-8d445e7e9cda"
      },
      "execution_count": null,
      "outputs": [
        {
          "output_type": "execute_result",
          "data": {
            "text/plain": [
              "0"
            ]
          },
          "metadata": {},
          "execution_count": 45
        }
      ]
    },
    {
      "cell_type": "code",
      "source": [
        "ECG_df.drop_duplicates( keep=\"first\", inplace=True)"
      ],
      "metadata": {
        "id": "MrERmPLLgkBW"
      },
      "execution_count": null,
      "outputs": []
    },
    {
      "cell_type": "code",
      "source": [
        "X=ECG_df.iloc[:,:186]\n",
        "y=ECG_df.iloc[:,187]"
      ],
      "metadata": {
        "id": "Gwpoe_fAgli-"
      },
      "execution_count": null,
      "outputs": []
    },
    {
      "cell_type": "code",
      "source": [
        "X=np.array(X)\n",
        "mms=MinMaxScaler()\n",
        "mms.fit(X)\n",
        "mms.transform(X)\n",
        "X=pd.DataFrame(X)"
      ],
      "metadata": {
        "id": "eCQSuCb3gpyO"
      },
      "execution_count": null,
      "outputs": []
    },
    {
      "cell_type": "code",
      "source": [
        "X_train,X_test,y_train,y_test=train_test_split(X,y,test_size=0.20,random_state=30)"
      ],
      "metadata": {
        "id": "TuQKj4o3gzU8"
      },
      "execution_count": null,
      "outputs": []
    },
    {
      "cell_type": "code",
      "source": [
        "\n",
        "\n",
        "print(\"Shape of X_train:\", X_train.shape)\n",
        "print(\"Shape of y_train:\", y_train.shape)"
      ],
      "metadata": {
        "colab": {
          "base_uri": "https://localhost:8080/"
        },
        "id": "6wac-jZNizLy",
        "outputId": "7cba907d-dc07-47b7-c9aa-6717bda5f4cc"
      },
      "execution_count": null,
      "outputs": [
        {
          "output_type": "stream",
          "name": "stdout",
          "text": [
            "Shape of X_train: (87556, 186)\n",
            "Shape of y_train: (87556,)\n"
          ]
        }
      ]
    },
    {
      "cell_type": "code",
      "source": [
        "# LSTM Model\n",
        "# Convert DataFrame X to a NumPy array\n",
        "X_array = X.values\n",
        "\n",
        "# Convert Series y to a NumPy array\n",
        "y_array = y.values\n",
        "\n",
        "# Define the number of time steps and features\n",
        "time_steps = X_array.shape[1]  # Number of time steps\n",
        "num_features = 1  # Number of features per time step\n",
        "\n",
        "# Define the number of classes (output categories)\n",
        "num_classes = len(np.unique(y_array))\n",
        "\n",
        "# Convert labels to one-hot encoding (categorical format)\n",
        "y_encoded = keras.utils.to_categorical(y_array, num_classes)\n",
        "\n",
        "\n",
        "# Reshape X to match the input shape expected by LSTM\n",
        "X_reshaped = X_array.reshape(X_array.shape[0], time_steps, num_features)\n",
        "\n",
        "# Define the LSTM model\n",
        "model = keras.Sequential()\n",
        "model.add(layers.LSTM(128, input_shape=(time_steps, num_features)))\n",
        "model.add(layers.Dense(num_classes, activation='softmax'))\n",
        "LSTM_pred = model.predict(X_test)\n",
        "# Compile the model\n",
        "model.compile(optimizer='adam',loss='categorical_crossentropy',metrics=['accuracy'])\n",
        "\n",
        "\n",
        "# Train the model\n",
        "LSTM=model.fit(X_reshaped, y_encoded, epochs=1, batch_size=32)\n"
      ],
      "metadata": {
        "colab": {
          "base_uri": "https://localhost:8080/"
        },
        "id": "wCngBJ_Nvr0z",
        "outputId": "a67fba71-7d06-487a-b112-2f76aa0e7725"
      },
      "execution_count": null,
      "outputs": [
        {
          "output_type": "stream",
          "name": "stdout",
          "text": [
            "685/685 [==============================] - 58s 84ms/step\n",
            "3421/3421 [==============================] - 735s 214ms/step - loss: 0.6568 - accuracy: 0.8277\n"
          ]
        }
      ]
    },
    {
      "cell_type": "code",
      "source": [
        "\n",
        "# Convert LSTM_pred to class labels (if it's in one-hot encoding format)\n",
        "LSTM_pred_labels = np.argmax(LSTM_pred, axis=1)\n",
        "\n",
        "# Compute precision for the LSTM model\n",
        "precision_LSTM = precision_score(y_test, LSTM_pred_labels, average='weighted')\n",
        "\n",
        "# Print the precision score\n",
        "print(f\"LSTM Precision: {precision_LSTM}\")\n"
      ],
      "metadata": {
        "colab": {
          "base_uri": "https://localhost:8080/"
        },
        "id": "Cx4aUVf_r6-u",
        "outputId": "be8a6e8c-96b1-45ae-8fe0-58e7f37e5443"
      },
      "execution_count": null,
      "outputs": [
        {
          "output_type": "stream",
          "name": "stdout",
          "text": [
            "LSTM Precision: 0.7449500757236779\n"
          ]
        },
        {
          "output_type": "stream",
          "name": "stderr",
          "text": [
            "/usr/local/lib/python3.10/dist-packages/sklearn/metrics/_classification.py:1344: UndefinedMetricWarning: Precision is ill-defined and being set to 0.0 in labels with no predicted samples. Use `zero_division` parameter to control this behavior.\n",
            "  _warn_prf(average, modifier, msg_start, len(result))\n"
          ]
        }
      ]
    },
    {
      "cell_type": "code",
      "source": [
        "\n",
        "# Convert LSTM_pred to class labels (if it's in one-hot encoding format)\n",
        "LSTM_pred_labels = np.argmax(LSTM_pred, axis=1)\n",
        "\n",
        "# Compute F1 score for the LSTM model\n",
        "f1_LSTM = f1_score(y_test, LSTM_pred_labels, average='weighted')\n",
        "\n",
        "# Print the F1 score\n",
        "print(f\"LSTM F1 Score: {f1_LSTM }\")\n"
      ],
      "metadata": {
        "colab": {
          "base_uri": "https://localhost:8080/"
        },
        "id": "fO8laRPCzweu",
        "outputId": "fc21a2e5-606f-4002-8086-9ec21d52b9fc"
      },
      "execution_count": null,
      "outputs": [
        {
          "output_type": "stream",
          "name": "stdout",
          "text": [
            "LSTM F1 Score: 0.6672490340771822\n"
          ]
        }
      ]
    },
    {
      "cell_type": "code",
      "source": [
        "# Convert CNN_pred to class labels (if it's in one-hot encoding format)\n",
        "LSTM_pred_labels = np.argmax(LSTM_pred, axis=1)\n",
        "\n",
        "# Compute F1 score for the LSTM model\n",
        "Recall_LSTM = recall_score(y_test, LSTM_pred_labels, average='weighted')\n",
        "\n",
        "# Print the F1 score\n",
        "print(f\"LSTM Recall Score: {Recall_LSTM }\")"
      ],
      "metadata": {
        "colab": {
          "base_uri": "https://localhost:8080/"
        },
        "id": "eX0xxP2-3Sao",
        "outputId": "d35d7344-35b7-4562-9a4e-6d3c912f7a90"
      },
      "execution_count": null,
      "outputs": [
        {
          "output_type": "stream",
          "name": "stdout",
          "text": [
            "LSTM Recall Score: 0.6046139789858382\n"
          ]
        }
      ]
    },
    {
      "cell_type": "code",
      "source": [
        "#MultiLayer Perceptron Model\n",
        "# Convert DataFrame X to a NumPy array\n",
        "X_array = X.values\n",
        "\n",
        "# Convert Series y to a NumPy array\n",
        "y_array = y.values\n",
        "\n",
        "# Define the number of time steps and features\n",
        "time_steps = X_array.shape[1]  # Number of time steps\n",
        "num_features = 1  # Number of features per time step\n",
        "\n",
        "# Define the number of classes (output categories)\n",
        "num_classes = len(np.unique(y_array))\n",
        "\n",
        "# Convert labels to one-hot encoding (categorical format)\n",
        "y_encoded = keras.utils.to_categorical(y_array, num_classes)\n",
        "\n",
        "# Reshape X to match the input shape expected by MLP\n",
        "X_reshaped = X_array.reshape(X_array.shape[0], time_steps, num_features)\n",
        "\n",
        "# Define the MLP model\n",
        "mlp = keras.Sequential()\n",
        "mlp.add(layers.Dense(128, input_shape=(time_steps, num_features)))\n",
        "mlp.add(layers.Dense(num_classes, activation='softmax'))\n",
        "\n",
        "\n",
        "# Compile the model\n",
        "mlp.compile(optimizer='adam',loss='categorical_crossentropy',metrics=['accuracy'])\n",
        "\n",
        "# Train the model\n",
        "MLP=model.fit(X_reshaped, y_encoded, epochs=1, batch_size=32)"
      ],
      "metadata": {
        "colab": {
          "base_uri": "https://localhost:8080/"
        },
        "id": "FO2PjEgs271R",
        "outputId": "8b7234e1-5a93-4b27-d2aa-11a5da27fc85"
      },
      "execution_count": null,
      "outputs": [
        {
          "output_type": "stream",
          "name": "stdout",
          "text": [
            "3421/3421 [==============================] - 172s 50ms/step - loss: 0.6691 - accuracy: 0.8255\n"
          ]
        }
      ]
    },
    {
      "cell_type": "code",
      "source": [
        " MLP_pred = mlp.predict(X_test)"
      ],
      "metadata": {
        "colab": {
          "base_uri": "https://localhost:8080/"
        },
        "id": "AwOBUGlHaVeH",
        "outputId": "a2e721e0-010a-4290-ad1d-a56fd4bb8de9"
      },
      "execution_count": null,
      "outputs": [
        {
          "output_type": "stream",
          "name": "stdout",
          "text": [
            "685/685 [==============================] - 2s 3ms/step\n"
          ]
        }
      ]
    },
    {
      "cell_type": "code",
      "source": [
        "#RNN Model\n",
        "# Convert DataFrame X to a NumPy array\n",
        "X_array = X.values\n",
        "\n",
        "# Convert Series y to a NumPy array\n",
        "y_array = y.values\n",
        "\n",
        "# Define the number of time steps and features\n",
        "time_steps = X_array.shape[1]  # Number of time steps\n",
        "num_features = 1  # Number of features per time step\n",
        "\n",
        "# Define the number of classes (output categories)\n",
        "num_classes = len(np.unique(y_array))\n",
        "\n",
        "# Convert labels to one-hot encoding (categorical format)\n",
        "y_encoded = keras.utils.to_categorical(y_array, num_classes)\n",
        "\n",
        "# Reshape X to match the input shape expected by RNN\n",
        "X_reshaped = X_array.reshape(X_array.shape[0], time_steps, num_features)\n",
        "\n",
        "# Define the RNN Model\n",
        "rnn = keras.Sequential()\n",
        "rnn.add(SimpleRNN(128, input_shape=(time_steps, num_features)))\n",
        "rnn.add(layers.Dense(num_classes, activation='softmax'))\n",
        "RNN_pred = rnn.predict(X_test)\n",
        "\n",
        "# Compile the Model\n",
        "rnn.compile(optimizer='adam',loss='categorical_crossentropy',metrics=['accuracy'])\n",
        "\n",
        "# Train the model\n",
        "RNN=model.fit(X_reshaped, y_encoded, epochs=1, batch_size=32)"
      ],
      "metadata": {
        "colab": {
          "base_uri": "https://localhost:8080/"
        },
        "id": "Szej9RjJ4Lqr",
        "outputId": "2ffd8b15-10e4-4620-a5a2-b82fc80b0c59"
      },
      "execution_count": null,
      "outputs": [
        {
          "output_type": "stream",
          "name": "stdout",
          "text": [
            "3421/3421 [==============================] - 167s 49ms/step - loss: 0.6441 - accuracy: 0.8276\n"
          ]
        }
      ]
    },
    {
      "cell_type": "code",
      "source": [
        " RNN_pred = rnn.predict(X_test)"
      ],
      "metadata": {
        "colab": {
          "base_uri": "https://localhost:8080/"
        },
        "id": "IScX9yPZaLIs",
        "outputId": "61aceb6b-da2e-4398-d323-514e467669a4"
      },
      "execution_count": null,
      "outputs": [
        {
          "output_type": "stream",
          "name": "stdout",
          "text": [
            "685/685 [==============================] - 12s 17ms/step\n"
          ]
        }
      ]
    },
    {
      "cell_type": "code",
      "source": [
        "# Convert RNN_pred to class labels (if it's in one-hot encoding format)\n",
        "RNN_pred_labels = np.argmax(RNN_pred, axis=1)\n",
        "\n",
        "# Compute precision for the LSTM model\n",
        "precision_rnn = precision_score(y_test, RNN_pred_labels, average='weighted')\n",
        "\n",
        "# Print the precision score\n",
        "print(f\"RNN Precision: {precision_rnn}\")"
      ],
      "metadata": {
        "colab": {
          "base_uri": "https://localhost:8080/"
        },
        "id": "W-MBfmQWwrZ9",
        "outputId": "e8509159-bac5-4a6b-d8df-2660061daec9"
      },
      "execution_count": null,
      "outputs": [
        {
          "output_type": "stream",
          "name": "stdout",
          "text": [
            "RNN Precision: 0.6934006447062941\n"
          ]
        }
      ]
    },
    {
      "cell_type": "code",
      "source": [
        "# Convert RNN_pred to class labels (if it's in one-hot encoding format)\n",
        "RNN_pred_labels = np.argmax(RNN_pred, axis=1)\n",
        "\n",
        "# Compute F1 score for the RNN model\n",
        "f1_RNN = f1_score(y_test, RNN_pred_labels, average='weighted')\n",
        "\n",
        "# Print the F1 score\n",
        "print(f\"RNN F1 Score: {f1_RNN }\")"
      ],
      "metadata": {
        "colab": {
          "base_uri": "https://localhost:8080/"
        },
        "id": "bg_mI-Mk0d1t",
        "outputId": "e4160568-6cf8-4cf9-d10b-1424b3722bfe"
      },
      "execution_count": null,
      "outputs": [
        {
          "output_type": "stream",
          "name": "stdout",
          "text": [
            "RNN F1 Score: 0.07683398883430823\n"
          ]
        }
      ]
    },
    {
      "cell_type": "code",
      "source": [
        "# Convert RNN_pred to class labels (if it's in one-hot encoding format)\n",
        "RNN_pred_labels = np.argmax(RNN_pred, axis=1)\n",
        "\n",
        "# Compute F1 score for the RNN model\n",
        "Recall_RNN = recall_score(y_test, RNN_pred_labels, average='weighted')\n",
        "\n",
        "# Print the F1 score\n",
        "print(f\"RNN Recall Score: {Recall_RNN }\")"
      ],
      "metadata": {
        "colab": {
          "base_uri": "https://localhost:8080/"
        },
        "id": "FJ0grHWe3DAd",
        "outputId": "9e28de65-3e98-4a63-b020-c6df3c393a41"
      },
      "execution_count": null,
      "outputs": [
        {
          "output_type": "stream",
          "name": "stdout",
          "text": [
            "RNN Recall Score: 0.07820922795797168\n"
          ]
        }
      ]
    },
    {
      "cell_type": "code",
      "source": [
        "#CNN Model\n",
        "# Convert DataFrame X to a NumPy array\n",
        "X_array = X_train.values\n",
        "\n",
        "# Convert Series y to a NumPy array\n",
        "y_array = y_train.values\n",
        "\n",
        "# Define the input shape (assuming your data has 3 features per time step)\n",
        "input_shape = (time_steps, num_features)  # Adjust based on your data\n",
        "\n",
        "# Define the number of classes (output categories)\n",
        "num_classes = len(np.unique(y_array))\n",
        "\n",
        "# Convert labels to one-hot encoding (categorical format)\n",
        "y_encoded = keras.utils.to_categorical(y_array, num_classes)\n",
        "\n",
        "# Define the CNN model\n",
        "cnn = keras.Sequential()\n",
        "\n",
        "# Add the input layer\n",
        "cnn.add(layers.Input(shape=input_shape))\n",
        "\n",
        "# Convolutional layers\n",
        "cnn.add(layers.Conv1D(32, kernel_size=3, activation='relu'))\n",
        "cnn.add(layers.MaxPooling1D(pool_size=2))\n",
        "cnn.add(layers.Conv1D(64, kernel_size=3, activation='relu'))\n",
        "cnn.add(layers.MaxPooling1D(pool_size=2))\n",
        "\n",
        "# Flatten the output\n",
        "cnn.add(layers.Flatten())\n",
        "\n",
        "# Fully connected layers\n",
        "cnn.add(layers.Dense(128, activation='relu'))\n",
        "cnn.add(layers.Dense(num_classes, activation='softmax'))\n",
        "CNN_pred = cnn.predict(X_test)\n",
        "#compile the CNN model\n",
        "cnn.compile(optimizer='adam',loss='categorical_crossentropy',metrics=['accuracy'])\n",
        "\n",
        "\n",
        "# Train the CNN Model\n",
        "cnn.fit(X_array, y_encoded, epochs=10, batch_size=32)\n"
      ],
      "metadata": {
        "colab": {
          "base_uri": "https://localhost:8080/"
        },
        "id": "OEyfvZhX9phb",
        "outputId": "f0cfd485-e704-4f1d-870f-6f7bd0992103"
      },
      "execution_count": null,
      "outputs": [
        {
          "output_type": "stream",
          "name": "stdout",
          "text": [
            "Epoch 1/10\n",
            "2737/2737 [==============================] - 39s 14ms/step - loss: 0.1994 - accuracy: 0.9450\n",
            "Epoch 2/10\n",
            "2737/2737 [==============================] - 38s 14ms/step - loss: 0.1097 - accuracy: 0.9694\n",
            "Epoch 3/10\n",
            "2737/2737 [==============================] - 38s 14ms/step - loss: 0.0862 - accuracy: 0.9758\n",
            "Epoch 4/10\n",
            "2737/2737 [==============================] - 49s 18ms/step - loss: 0.0716 - accuracy: 0.9791\n",
            "Epoch 5/10\n",
            "2737/2737 [==============================] - 36s 13ms/step - loss: 0.0611 - accuracy: 0.9821\n",
            "Epoch 6/10\n",
            "2737/2737 [==============================] - 41s 15ms/step - loss: 0.0529 - accuracy: 0.9837\n",
            "Epoch 7/10\n",
            "2737/2737 [==============================] - 38s 14ms/step - loss: 0.0452 - accuracy: 0.9865\n",
            "Epoch 8/10\n",
            "2737/2737 [==============================] - 43s 16ms/step - loss: 0.0398 - accuracy: 0.9877\n",
            "Epoch 9/10\n",
            "2737/2737 [==============================] - 38s 14ms/step - loss: 0.0347 - accuracy: 0.9891\n",
            "Epoch 10/10\n",
            "2737/2737 [==============================] - 38s 14ms/step - loss: 0.0304 - accuracy: 0.9902\n"
          ]
        },
        {
          "output_type": "execute_result",
          "data": {
            "text/plain": [
              "<keras.src.callbacks.History at 0x7f8c46dd9360>"
            ]
          },
          "metadata": {},
          "execution_count": 74
        }
      ]
    },
    {
      "cell_type": "code",
      "source": [
        " CNN_pred = cnn.predict(X_test)"
      ],
      "metadata": {
        "colab": {
          "base_uri": "https://localhost:8080/"
        },
        "id": "guwC_RzsaDhQ",
        "outputId": "be49042b-9aea-410f-ad09-563b8b059ed2"
      },
      "execution_count": null,
      "outputs": [
        {
          "output_type": "stream",
          "name": "stdout",
          "text": [
            "685/685 [==============================] - 3s 4ms/step\n"
          ]
        }
      ]
    },
    {
      "cell_type": "code",
      "source": [
        "# Convert CNN_pred to class labels (if it's in one-hot encoding format)\n",
        "CNN_pred_labels = np.argmax(CNN_pred, axis=1)\n",
        "\n",
        "# Compute precision for the LSTM model\n",
        "precision_CNN = precision_score(y_test, CNN_pred_labels, average='weighted')\n",
        "\n",
        "# Print the precision score\n",
        "print(f\"CNN Precision: {precision_CNN}\")"
      ],
      "metadata": {
        "colab": {
          "base_uri": "https://localhost:8080/"
        },
        "id": "kxhaJ80nwbL4",
        "outputId": "ab0282a3-bd50-41ff-c54b-6caed52e542b"
      },
      "execution_count": null,
      "outputs": [
        {
          "output_type": "stream",
          "name": "stdout",
          "text": [
            "CNN Precision: 0.9805653799067277\n"
          ]
        }
      ]
    },
    {
      "cell_type": "code",
      "source": [
        "# Convert CNN_pred to class labels (if it's in one-hot encoding format)\n",
        "CNN_pred_labels = np.argmax(CNN_pred, axis=1)\n",
        "\n",
        "# Compute F1 score for the CNN model\n",
        "f1_CNN = f1_score(y_test, CNN_pred_labels, average='weighted')\n",
        "\n",
        "# Print the F1 score\n",
        "print(f\"CNN F1 Score: {f1_CNN }\")"
      ],
      "metadata": {
        "colab": {
          "base_uri": "https://localhost:8080/"
        },
        "id": "1FeTBePs0Q-6",
        "outputId": "11595ba9-c0f6-47d5-ba0c-735c7726b0fa"
      },
      "execution_count": null,
      "outputs": [
        {
          "output_type": "stream",
          "name": "stdout",
          "text": [
            "CNN F1 Score: 0.980453175470423\n"
          ]
        }
      ]
    },
    {
      "cell_type": "code",
      "source": [
        "# Convert CNN_pred to class labels (if it's in one-hot encoding format)\n",
        "CNN_pred_labels = np.argmax(CNN_pred, axis=1)\n",
        "\n",
        "# Compute F1 score for the CNN model\n",
        "Recall_CNN = recall_score(y_test, CNN_pred_labels, average='weighted')\n",
        "\n",
        "# Print the F1 score\n",
        "print(f\"CNN Recall Score: {Recall_CNN }\")"
      ],
      "metadata": {
        "colab": {
          "base_uri": "https://localhost:8080/"
        },
        "id": "gPSMe8e62mTX",
        "outputId": "8953ed9a-0794-4020-8499-e83927126b22"
      },
      "execution_count": null,
      "outputs": [
        {
          "output_type": "stream",
          "name": "stdout",
          "text": [
            "CNN Recall Score: 0.9810415714938328\n"
          ]
        }
      ]
    },
    {
      "cell_type": "code",
      "source": [
        "import matplotlib.pyplot as plt\n",
        "\n",
        "# List of model names\n",
        "models = ['LSTM','RNN', 'CNN', 'GRU']\n",
        "\n",
        "# List of precision scores for each model\n",
        "precisions = [0.74,0.69,0.98,0.71]\n",
        "\n",
        "# Create a bar plot\n",
        "plt.figure(figsize=(10, 6))\n",
        "plt.bar(models, precisions, color=['blue', 'green','red', 'purple'])\n",
        "plt.title('Model Precision Scores')\n",
        "plt.xlabel('Model')\n",
        "plt.ylabel('Precision')\n",
        "plt.ylim(0, 1.0)  # Adjust the y-axis limits if needed\n",
        "plt.show()\n"
      ],
      "metadata": {
        "colab": {
          "base_uri": "https://localhost:8080/",
          "height": 564
        },
        "id": "wQMZjB0cx9ib",
        "outputId": "2b2a4001-1358-41eb-ada5-009f154a59bc"
      },
      "execution_count": null,
      "outputs": [
        {
          "output_type": "display_data",
          "data": {
            "text/plain": [
              "<Figure size 1000x600 with 1 Axes>"
            ],
            "image/png": "[encoded data removed]"
          },
          "metadata": {}
        }
      ]
    },
    {
      "cell_type": "code",
      "source": [
        "import matplotlib.pyplot as plt\n",
        "\n",
        "# List of model names\n",
        "models = ['LSTM','RNN', 'CNN', 'GRU']\n",
        "\n",
        "# List of F1_Score scores for each model\n",
        "F1_Score = [0.66,0.076,0.98,0.75]\n",
        "\n",
        "# Create a bar plot\n",
        "plt.figure(figsize=(10, 6))\n",
        "plt.bar(models, F1_Score, color=['blue', 'green','red', 'purple'])\n",
        "plt.title('Model F1 Scores')\n",
        "plt.xlabel('Model')\n",
        "plt.ylabel('F1 Score')\n",
        "plt.ylim(0, 1.0)  # Adjust the y-axis limits if needed\n",
        "plt.show()\n"
      ],
      "metadata": {
        "colab": {
          "base_uri": "https://localhost:8080/",
          "height": 564
        },
        "id": "NeSaCgXV1XFr",
        "outputId": "1d184a26-4fbd-4aa6-90b5-e56537acae29"
      },
      "execution_count": null,
      "outputs": [
        {
          "output_type": "display_data",
          "data": {
            "text/plain": [
              "<Figure size 1000x600 with 1 Axes>"
            ],
            "image/png": "[encoded data removed]"
          },
          "metadata": {}
        }
      ]
    },
    {
      "cell_type": "code",
      "source": [
        "import matplotlib.pyplot as plt\n",
        "\n",
        "# List of model names\n",
        "models = ['LSTM','RNN', 'CNN', 'GRU']\n",
        "\n",
        "# List of Recall  for each model\n",
        "Recall = [0.60,0.078,0.981,0.82]\n",
        "\n",
        "# Create a bar plot\n",
        "plt.figure(figsize=(10, 6))\n",
        "plt.bar(models, Recall, color=['blue', 'green','red', 'purple'])\n",
        "plt.title('Model Recall')\n",
        "plt.xlabel('Model')\n",
        "plt.ylabel('Recall')\n",
        "plt.ylim(0, 1.0)  # Adjust the y-axis limits if needed\n",
        "plt.show()\n"
      ],
      "metadata": {
        "colab": {
          "base_uri": "https://localhost:8080/",
          "height": 564
        },
        "id": "Hkmb-u8V2NyC",
        "outputId": "cf80f7cd-84e5-43ba-dc5f-440870804cfd"
      },
      "execution_count": null,
      "outputs": [
        {
          "output_type": "display_data",
          "data": {
            "text/plain": [
              "<Figure size 1000x600 with 1 Axes>"
            ],
            "image/png": "[encoded data removed]"
          },
          "metadata": {}
        }
      ]
    },
    {
      "cell_type": "code",
      "source": [
        "#GRU Model\n",
        "# Convert DataFrame X to a NumPy array\n",
        "X_array = X.values\n",
        "\n",
        "# Convert Series y to a NumPy array\n",
        "y_array = y.values\n",
        "\n",
        "# Define the number of time steps and features\n",
        "time_steps = X_array.shape[1]  # Number of time steps\n",
        "num_features = 1  # Number of features per time step\n",
        "\n",
        "# Define the number of classes (output categories)\n",
        "num_classes = len(np.unique(y_array))\n",
        "\n",
        "# Convert labels to one-hot encoding (categorical format)\n",
        "y_encoded = keras.utils.to_categorical(y_array, num_classes)\n",
        "\n",
        "# Reshape X to match the input shape expected by GRU\n",
        "X_reshaped = X_array.reshape(X_array.shape[0], time_steps, num_features)\n",
        "\n",
        "# Define the GRU model\n",
        "gru = keras.Sequential()\n",
        "gru.add(layers.GRU(128, input_shape=(time_steps, num_features)))\n",
        "gru.add(layers.Dense(num_classes, activation='softmax'))\n",
        "GRU_pred = gru.predict(X_test)\n",
        "\n",
        "# Compile the model\n",
        "gru.compile(optimizer='adam',loss='categorical_crossentropy',metrics=['accuracy'])\n",
        "\n",
        "# Train the model\n",
        "GRU=model.fit(X_reshaped, y_encoded, epochs=1, batch_size=32)"
      ],
      "metadata": {
        "colab": {
          "base_uri": "https://localhost:8080/"
        },
        "id": "MzP9seF6CKZ5",
        "outputId": "1854d30f-ca93-4abe-ae3d-753ed69d2e2a"
      },
      "execution_count": null,
      "outputs": [
        {
          "output_type": "stream",
          "name": "stdout",
          "text": [
            "3421/3421 [==============================] - 163s 48ms/step - loss: 0.6406 - accuracy: 0.8262\n"
          ]
        }
      ]
    },
    {
      "cell_type": "code",
      "source": [
        " GRU_pred = gru.predict(X_test)"
      ],
      "metadata": {
        "colab": {
          "base_uri": "https://localhost:8080/"
        },
        "id": "ZM0-nCd1ZtcF",
        "outputId": "3e78dbc4-4208-4e9b-a3f5-f15f9d7a3b64"
      },
      "execution_count": null,
      "outputs": [
        {
          "output_type": "stream",
          "name": "stdout",
          "text": [
            "685/685 [==============================] - 28s 40ms/step\n"
          ]
        }
      ]
    },
    {
      "cell_type": "code",
      "source": [
        "# Convert GRU_pred to class labels (if it's in one-hot encoding format)\n",
        "GRU_pred_labels = np.argmax(GRU_pred, axis=1)\n",
        "\n",
        "# Compute precision for the LSTM model\n",
        "precision_GRU = precision_score(y_test, GRU_pred_labels, average='weighted')\n",
        "\n",
        "# Print the precision score\n",
        "print(f\"GRU Precision: {precision_GRU}\")"
      ],
      "metadata": {
        "colab": {
          "base_uri": "https://localhost:8080/"
        },
        "id": "trtaDdG5wJy9",
        "outputId": "8afb817e-982b-4723-c125-a0bb13f923cd"
      },
      "execution_count": null,
      "outputs": [
        {
          "output_type": "stream",
          "name": "stdout",
          "text": [
            "GRU Precision: 0.7118573188588595\n"
          ]
        },
        {
          "output_type": "stream",
          "name": "stderr",
          "text": [
            "/usr/local/lib/python3.10/dist-packages/sklearn/metrics/_classification.py:1344: UndefinedMetricWarning: Precision is ill-defined and being set to 0.0 in labels with no predicted samples. Use `zero_division` parameter to control this behavior.\n",
            "  _warn_prf(average, modifier, msg_start, len(result))\n"
          ]
        }
      ]
    },
    {
      "cell_type": "code",
      "source": [
        "# Convert GRU_pred to class labels (if it's in one-hot encoding format)\n",
        "GRU_pred_labels = np.argmax(GRU_pred, axis=1)\n",
        "\n",
        "# Compute F1 score for the LSTM model\n",
        "f1_GRU = f1_score(y_test, GRU_pred_labels, average='weighted')\n",
        "\n",
        "# Print the F1 score\n",
        "print(f\"GRU F1 Score: {f1_GRU }\")"
      ],
      "metadata": {
        "colab": {
          "base_uri": "https://localhost:8080/"
        },
        "id": "_zywXp8Jz-rh",
        "outputId": "73de4596-12e7-44e8-df08-e195d50c248d"
      },
      "execution_count": null,
      "outputs": [
        {
          "output_type": "stream",
          "name": "stdout",
          "text": [
            "GRU F1 Score: 0.7582513547903935\n"
          ]
        }
      ]
    },
    {
      "cell_type": "code",
      "source": [
        "# Convert GRU_pred to class labels (if it's in one-hot encoding format)\n",
        "GRU_pred_labels = np.argmax(GRU_pred, axis=1)\n",
        "\n",
        "# Compute F1 score for the GRU model\n",
        "Recall_GRU = recall_score(y_test, GRU_pred_labels, average='weighted')\n",
        "\n",
        "# Print the F1 score\n",
        "print(f\"GRU Recall Score: {Recall_GRU }\")"
      ],
      "metadata": {
        "colab": {
          "base_uri": "https://localhost:8080/"
        },
        "id": "0hZ6x_rW3w2I",
        "outputId": "9251752c-fdc3-4694-a01c-ac2f4bd420bc"
      },
      "execution_count": null,
      "outputs": [
        {
          "output_type": "stream",
          "name": "stdout",
          "text": [
            "GRU Recall Score: 0.8264504339881225\n"
          ]
        }
      ]
    },
    {
      "cell_type": "code",
      "source": [
        "import matplotlib.pyplot as plt\n",
        "\n",
        "# Models and their accuracy scores\n",
        "models = ['LSTM', 'MLP', 'RNN','CNN','GRU']\n",
        "accuracy_scores = [0.8276, 0.8255, 0.8276,0.99,0.8262]\n",
        "\n",
        "# Create a bar plot\n",
        "plt.figure(figsize=(8, 6))\n",
        "plt.bar(models, accuracy_scores, color=['blue', 'green', 'orange','yellow','black'])\n",
        "plt.title('Model Comparison - Accuracy Scores')\n",
        "plt.xlabel('Model')\n",
        "plt.ylabel('Accuracy')\n",
        "\n",
        "# Adjust the y-axis limits to better visualize the bars\n",
        "plt.ylim(0.8, 0.99)  # Adjust the values based on your actual accuracy scores range\n",
        "\n",
        "plt.show()\n"
      ],
      "metadata": {
        "colab": {
          "base_uri": "https://localhost:8080/",
          "height": 564
        },
        "id": "0TpuPQObE0ic",
        "outputId": "5cfcfc90-be10-46a2-df2e-7d0af7ed6f61"
      },
      "execution_count": null,
      "outputs": [
        {
          "output_type": "display_data",
          "data": {
            "text/plain": [
              "<Figure size 800x600 with 1 Axes>"
            ],
            "image/png": "[encoded data removed]"
          },
          "metadata": {}
        }
      ]
    }
  ]
}